{
 "cells": [
  {
   "cell_type": "markdown",
   "id": "43fe076f-3024-4331-9632-775a7ed347e1",
   "metadata": {},
   "source": [
    "No:1001 Prob: hello world!"
   ]
  },
  {
   "cell_type": "code",
   "execution_count": 1,
   "id": "1f8cd24a-05a6-4d18-a6ac-54167b14b8b3",
   "metadata": {},
   "outputs": [
    {
     "name": "stdout",
     "output_type": "stream",
     "text": [
      "hellow world!\n"
     ]
    }
   ],
   "source": [
    "print(\"hellow world!\")"
   ]
  },
  {
   "cell_type": "code",
   "execution_count": null,
   "id": "7bc9951e-5ee8-4915-b2de-526a18bc45ac",
   "metadata": {},
   "outputs": [],
   "source": []
  }
 ],
 "metadata": {
  "kernelspec": {
   "display_name": "Python 3 (ipykernel)",
   "language": "python",
   "name": "python3"
  },
  "language_info": {
   "codemirror_mode": {
    "name": "ipython",
    "version": 3
   },
   "file_extension": ".py",
   "mimetype": "text/x-python",
   "name": "python",
   "nbconvert_exporter": "python",
   "pygments_lexer": "ipython3",
   "version": "3.10.9"
  }
 },
 "nbformat": 4,
 "nbformat_minor": 5
}
